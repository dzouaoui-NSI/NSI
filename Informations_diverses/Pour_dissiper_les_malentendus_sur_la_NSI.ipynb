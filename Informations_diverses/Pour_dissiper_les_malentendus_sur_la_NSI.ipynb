{
 "cells": [
  {
   "cell_type": "markdown",
   "metadata": {},
   "source": [
    "## Que fait-on en NSI ?\n",
    "\n",
    "> Normalement vous devriez en avoir une petite idée car **vous avez choisi de venir** et j'ai fait plusieurs interventions auprès des élèves et des familles pour dissiper un possible malentendu sur la NSI. Mais je préfère le redire une **dernière** fois en ce début d'année !!\n",
    "\n",
    "Commençons par caricaturer... malheureusement, pour quelques élèves ce n'est pas de la caricature :\n",
    "\n",
    "| <img src=\"img/gamers.jpg\" width = 60%/> | <img src=\"img/lignesCode.png\" width = 100%/>  |\n",
    "|:-------------------------------------:|:-----------------:|\n",
    "|**Certains imaginent ça en NSI**|**Le quotidien en NSI**|\n",
    "|(*conséquence : probablement 4 ou 5 de moyenne, voire pire*)|(*La moyenne va dépendre du travail fourni*)|\n",
    "\n",
    "* Quand on utilise une voiture, on ne fait pas de mécanique !  \n",
    "De la même façon, **quand on utilise un ordinateur, ou encore pire un smartphone, ON NE FAIT PAS d'informatique, ON NE FAIT PAS de la NSI !**\n",
    "\n",
    "\n",
    "* Ceux qui font de la mécanique, ce sont les garagistes et les constructeurs automobile : Ils savent comment la voiture fonctionne et font en sorte qu'elle puisse rouler !  \n",
    "De la même façon en NSI, on apprend comment fonctionne un ordinateur, comment on fabrique des logiciels (cela s'appelle faire de la programmation) ou comment fonctionnent internet et les réseaux. **Le travail d'un informaticien, c'est de faire en sorte que LES AUTRES puissent utiliser des ordinateurs, des logiciels, des applications et des réseaux**\n",
    "\n",
    "________________________\n",
    "\n",
    "|CECI **N'EST PAS** UN TRAVAIL D'INFORMATICIEN| CECI **EST** UN TRAVAIL D'INFORMATICIEN|\n",
    "|:--:|:--:|\n",
    "|Ecrire un rapport sous Word|Ecrire un logiciel de traitement de texte comme Word|\n",
    "|Dessiner des pièces pour les imprimer en 3D|Créer et administrer un réseau|\n",
    "|Dessiner des personnages de fortnite|Créer toute la _\"mécanique\"_ qui fait qu'on puisse jouer à fortnite|\n",
    "|Discuter sur Discord, Faire une campagne de pub sur Facebook|Créer et développer un service de messagerie|\n",
    "|Passer son temps sur You Tube et surfer sur internet| Créer un site web ou développer un serveur web|\n",
    "|**UTILISER L'OUTIL INFORMATIQUE**|**ETUDIER L'INFORMATIQUE**|\n",
    "\n",
    "__________________________________\n",
    "\n",
    "* Le travail demandé en NSI est bien plus dense que celui demandé en SNT\n",
    "\n",
    "\n",
    "* En NSI, on fait des TP mais pas uniquement : il y a aussi une partie théorique\n",
    "\n",
    "## Qualités demandées pour réussir en NSI\n",
    "\n",
    "* Rigueur\n",
    "* Capacité d'abstraction\n",
    "* Organisation\n",
    "* Autonomie\n",
    "* Capacité à se mettre au travail\n",
    "* ESPRIT ET RAISONNEMENT SCIENTIFIQUE (il y a une assez bonne corrélation entre moyenne en math et moyenne en NSI)\n",
    "\n",
    "$\\Longrightarrow$ **Une orientation réfléchie prend une part fondamentale dans la réussite scolaire.** "
   ]
  }
 ],
 "metadata": {
  "kernelspec": {
   "display_name": "Python 3",
   "language": "python",
   "name": "python3"
  },
  "language_info": {
   "codemirror_mode": {
    "name": "ipython",
    "version": 3
   },
   "file_extension": ".py",
   "mimetype": "text/x-python",
   "name": "python",
   "nbconvert_exporter": "python",
   "pygments_lexer": "ipython3",
   "version": "3.7.2"
  }
 },
 "nbformat": 4,
 "nbformat_minor": 4
}
