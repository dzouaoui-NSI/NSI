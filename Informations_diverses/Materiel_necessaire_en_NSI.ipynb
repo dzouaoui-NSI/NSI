{
 "cells": [
  {
   "cell_type": "markdown",
   "metadata": {},
   "source": [
    "# Matériel nécessaire\n",
    "\n",
    "C'est très léger mais indispensable :\n",
    "\n",
    "* stylo **noir** (utile pour scanner et corriger automatiquement vos QCM)\n",
    "* crayon à papier\n",
    "* gomme \n",
    "* règle\n",
    "* **Classeur** pour ranger les polycopiés distribués en classe"
   ]
  }
 ],
 "metadata": {
  "kernelspec": {
   "display_name": "Python 3",
   "language": "python",
   "name": "python3"
  },
  "language_info": {
   "codemirror_mode": {
    "name": "ipython",
    "version": 3
   },
   "file_extension": ".py",
   "mimetype": "text/x-python",
   "name": "python",
   "nbconvert_exporter": "python",
   "pygments_lexer": "ipython3",
   "version": "3.8.10"
  }
 },
 "nbformat": 4,
 "nbformat_minor": 4
}
