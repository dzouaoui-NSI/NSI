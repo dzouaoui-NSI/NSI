{
 "cells": [
  {
   "cell_type": "markdown",
   "metadata": {},
   "source": [
    "Toutes les ressources pédagogiques (cours, TD, TP, projet, corrections...) et toutes les informations nécessaires (**cahier de texte** avec dates des évaluations...) sont disponibles sur **github**. Vous n'étiez soit disant pas au courant dune évaluation ? vous étiez absent et on ne vous a pas prévenu ? tant pis pour vous, il fallait regarder sur **github**\n",
    "\n",
    "> Pour ceux qui ne peuvent pas avoir accès à un ordinateur à la maison pour travailler, **le travail devra être fait sur feuille**. Ceci est franchement pénible mais je ne vois pas d'autre solution... Pour les autres, **tout le travail doit être déposé dans votre _repository_ travail sur github**.\n",
    "\n",
    "**La suite de ce document concerne ceux qui peuvent avoir accès à un ordinateur à la maison pour travailler**\n",
    "\n",
    "_______________________________________\n",
    "\n",
    "## Installation _\"oligatoire\"_ à la maison\n",
    "\n",
    "(Un ordinateur, **même basique** suffit pour suivre la formation en NSI)\n",
    "\n",
    "Rappel : Tous les logiciels nécessaires à la formation sont [**libres**](https://fr.wikipedia.org/wiki/Logiciel_libre) et **gratuits** et ils s'installent très facilement sous windows, Mac ou Linux.\n",
    "\n",
    "Vous devez **\"obligatoirement\"** installer chez vous les logiciels utilisés en formation et notamment :\n",
    "* [Thonny](https://thonny.org/) pour écrire vos programmes python\n",
    "* [Atom](https://atom.io/) pour écrire tout ce qui n'est pas en python (HTML, CSS, Javascript...)\n",
    "* Je conseille d'utiliser [Firefox](https://www.mozilla.org/fr/firefox/new/) (navigateur libre) pour la partie web plutôt que Chrome (navigateur propriétaire)\n",
    "\n",
    "\n",
    "## Python sur smartphone\n",
    "\n",
    "Il y a beaucoup d'applications qui permettent de programmer en python sur un smartphone. Ce n'est évidemment pas pratique du tout mais ça peut dépanner ou ça peut être utile pour pratiquer quand on \"à rien à faire\". Je vous conseille **Pydroid3** qui me semble la plus complète sans l'avoir vraiment pratiquée moi-même...(disponible sur le playStore, il y a peut-être une version sur iphone)\n",
    "\n",
    "\n",
    "## Installation _recommandée_ à la maison (pour le confort ou pour aller plus loin)\n",
    "\n",
    "* [Jupyter](https://jupyter.org/) pour facilement écrire vos Notebook (compte rendu de TP) ou modifier ceux donnés sur github. Si vous êtes sous Windows ou Mac, [Github Desktop](https://desktop.github.com/) est un très bon outil pour gérer facilement et efficacement votre _repository_ depuis votre PC de bureau\n",
    "\n",
    "\n",
    "* Concernant la partie sur les systèmes d'exploitation (GNU/Linux), plusieurs possibilités s'offrent à vous mais cela prend plus de 5 minutes. Voici différentes solutions classées de la meilleure à la plus risquée :\n",
    "    1. Vous avez la possibilité d'avoir une machine sur laquelle vous avez carte blanche et sur lequel vous pouvez supprimer tout ce qui s'y trouve. C'est royal !! Ecraser Windows, et refaites une installation complète de [Ubuntu](https://ubuntu.com/download/desktop) comme en classe ou une autre distribution de Linux...\n",
    "    2. _\"Faire tourner une machine Linux dans Windows\"_ grâce à la technologie de virtualisation ([VirtualBox](https://www.virtualbox.org/)). Dans ce cas, il vaut mieux choisir une distribution Linux légère, par exemple [Lubuntu](https://lubuntu.fr/) pour ne pas trop ralentir votre machine.\n",
    "    3. Installer Linux sur une clé USB vive et booter sur la clé USB.\n",
    "        * [Freeduc](https://usb.freeduc.org/)\n",
    "        * [FramaKey](https://framakey.org/telecharger#download)\n",
    "    4. Installer Linux en double boot (attention à la perte éventuelle des données, je déconseille, surtout sur le PC familial...)\n",
    "    5. Si aucune des solutions proposées ci-dessus ne sont pas possible pour vous, je propose dans le fichier webographie des outils pour pratiquer les commandes Linux en ligne."
   ]
  }
 ],
 "metadata": {
  "kernelspec": {
   "display_name": "Python 3",
   "language": "python",
   "name": "python3"
  },
  "language_info": {
   "codemirror_mode": {
    "name": "ipython",
    "version": 3
   },
   "file_extension": ".py",
   "mimetype": "text/x-python",
   "name": "python",
   "nbconvert_exporter": "python",
   "pygments_lexer": "ipython3",
   "version": "3.7.2"
  }
 },
 "nbformat": 4,
 "nbformat_minor": 4
}
