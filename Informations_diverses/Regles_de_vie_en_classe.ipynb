{
 "cells": [
  {
   "cell_type": "markdown",
   "metadata": {},
   "source": [
    "# Règles de vie dans la salle informatique\n",
    "\n",
    "* **Nourriture et boisson interdites**. Les ordinateurs ne supportent pas les projections de liquide et digèrent mal les miettes et les restes de gâteaux.\n",
    "* Vous devez respecter le **travail** de ceux qui nettoient la salle : pas de papier qui traîne, les chaises sont rangées en fin de séance, le poste de travail doit rester dans le même état que vous l'avez trouvé.\n",
    "* **écouteurs, portable interdits et rangés DANS LE SAC** (sauf mention contraire explicite du professeur)\n",
    "* **Couvre-chefs interdits**\n",
    "* **clé USB interdite** (sauf mention contraire explicite du professeur). Vous n'en avez pas besoin car nous utiliserons un outil moderne et professionnel comme **Github**\n",
    "* 1 seul élève par poste (pas de binôme) sauf entraide **ponctuelle et limitée**\n",
    "* **Les postes ne sont pas nominatifs, votre place non plus** : Si je vous demande de changer de place, notamment à cause de problèmes de comportement, il vaut mieux pour vous le faire rapidement sans discuter !\n",
    "* **Interdiction formelle de bidouiller les postes informatiques, même pour changer un fond d'écran**. Prévenir si vous constatez un problème plutôt que d'intervenir vous-même. **Toute intervention sur le matériel informatique sera sanctionnée** car maintenir en bon état un parc informatique me demande du temps !!\n",
    "\n",
    "\n",
    "# Ambiance de classe et sanctions\n",
    "\n",
    "* **Ce sont les élèves qui font l'ambiance de classe par leur comportement et leur attitude** : Je suis **\"cool\"** si les élèves sont sérieux, matures et responsables mais je suis **\"sans pitié\"** avec les élèves qui me cassent les pieds ou sont insolents. A vous de choisir...\n",
    "\n",
    "* Un conseil : ne commencez pas à contester une sanction vous concernant car cela ne fera qu'agraver votre cas. Je connais par coeur les arguments des élèves allant du simple _\"j'ai rien fait\"_ au _\"c'est pas juste, il y en a d'autres qui parlent\"_. Il se trouve que quand je vous sanctionne, c'est sur vous que ça tombe de la même façon que lors d'un contrôle routier on peut être pris et recevoir une amende alors que d'autres roulent plus vite. Bref pour les spécialistes du _\"c'est toujours sur moi que ça tombe\"_ , faîtes en sorte que ça ne tombe plus sur vous...\n",
    "\n",
    "# Entraide entre les élèves\n",
    "\n",
    "Je suis un promoteur de [la culture du logiciel libre](https://fr.wikipedia.org/wiki/Histoire_du_logiciel_libre) fondée sur la libre diffusion du savoir, l'entraide et la collaboration dans le travail plutôt que le chacun pour soi et la compétition. Ainsi lors des TP, mais aussi en dehors des cours, je vous recommande vivement de vous aider les uns les autres, ceci afin que le tout le groupe avance de façon homogène :\n",
    "* Les élèves _\"les plus à l'aise\"_ sont encouragés à aider _\"ceux qui sont en difficultés\"_\n",
    "* Expliquer à d'autres n'est pas une perte de temps mais renforce ses propres connaissances\n",
    "* En classe : Entraide, collaboration $\\neq$ discussion, amusement"
   ]
  }
 ],
 "metadata": {
  "kernelspec": {
   "display_name": "Python 3",
   "language": "python",
   "name": "python3"
  },
  "language_info": {
   "codemirror_mode": {
    "name": "ipython",
    "version": 3
   },
   "file_extension": ".py",
   "mimetype": "text/x-python",
   "name": "python",
   "nbconvert_exporter": "python",
   "pygments_lexer": "ipython3",
   "version": "3.7.2"
  }
 },
 "nbformat": 4,
 "nbformat_minor": 4
}
