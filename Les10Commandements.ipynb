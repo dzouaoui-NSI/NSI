{
 "cells": [
  {
   "cell_type": "markdown",
   "metadata": {},
   "source": [
    "# Les 10 commandements du développeur\n",
    "\n",
    "1. Ton code toujours tu testeras\n",
    "2. Des noms de variables correctement choisis tu utiliseras\n",
    "3. Des noms commençant par une majuscule, uniquement pour les classes tu utiliseras\n",
    "4. Du code simple et lisible toujours tu écriras\n",
    "5. Des commentaires, à bon escient tu utiliseras\n",
    "6. Ton travail sur github, toujours tu sauvegarderas\n",
    "7. Avant d'écrire du code, toujours sur l'algorithme au brouillon tu réfléchiras\n",
    "8. Ta fonction, toujours tu documenteras\n",
    "9. Jamais longtemps bloqué tu resteras car toujours de l'aide tu demanderas\n",
    "10. A des tests bien choisis et pertinents tu réfléchiras"
   ]
  }
 ],
 "metadata": {
  "kernelspec": {
   "display_name": "Python 3",
   "language": "python",
   "name": "python3"
  },
  "language_info": {
   "codemirror_mode": {
    "name": "ipython",
    "version": 3
   },
   "file_extension": ".py",
   "mimetype": "text/x-python",
   "name": "python",
   "nbconvert_exporter": "python",
   "pygments_lexer": "ipython3",
   "version": "3.6.9"
  }
 },
 "nbformat": 4,
 "nbformat_minor": 4
}
